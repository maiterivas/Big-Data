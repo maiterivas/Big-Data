{
  "cells": [
    {
      "cell_type": "markdown",
      "metadata": {
        "id": "view-in-github",
        "colab_type": "text"
      },
      "source": [
        "<a href=\"https://colab.research.google.com/github/maiterivas/Big-Data-Challenge/blob/main/digital_video_games_reviews.ipynb\" target=\"_parent\"><img src=\"https://colab.research.google.com/assets/colab-badge.svg\" alt=\"Open In Colab\"/></a>"
      ]
    },
    {
      "cell_type": "markdown",
      "id": "7976c3cd-d77e-4024-bf59-15b1d2c904ee",
      "metadata": {
        "id": "7976c3cd-d77e-4024-bf59-15b1d2c904ee"
      },
      "source": [
        "<h3>Digital Video Games Amazon Reviews Data from: <br>\n",
        "https://s3.amazonaws.com/amazon-reviews-pds/tsv/amazon_reviews_us_Digital_Video_Games_v1_00.tsv.gz </h3>"
      ]
    },
    {
      "cell_type": "code",
      "execution_count": 1,
      "id": "508492ee-2e45-4fe8-9a3e-fc60b142c56a",
      "metadata": {
        "colab": {
          "base_uri": "https://localhost:8080/"
        },
        "id": "508492ee-2e45-4fe8-9a3e-fc60b142c56a",
        "outputId": "8bbbdd2a-555b-4b2e-c2bc-13a73f67af59"
      },
      "outputs": [
        {
          "output_type": "stream",
          "name": "stdout",
          "text": [
            "\r0% [Working]\r            \rHit:1 http://archive.ubuntu.com/ubuntu bionic InRelease\n",
            "\r0% [Waiting for headers] [Connecting to cloud.r-project.org (52.222.158.83)] [C\r                                                                               \rGet:2 http://archive.ubuntu.com/ubuntu bionic-updates InRelease [88.7 kB]\n",
            "\r                                                                               \rGet:3 http://security.ubuntu.com/ubuntu bionic-security InRelease [88.7 kB]\n",
            "\r                                                                               \rGet:4 http://ppa.launchpad.net/c2d4u.team/c2d4u4.0+/ubuntu bionic InRelease [15.9 kB]\n",
            "\r0% [2 InRelease 44.6 kB/88.7 kB 50%] [3 InRelease 88.7 kB/88.7 kB 100%] [Connec\r                                                                               \rHit:5 http://ppa.launchpad.net/cran/libgit2/ubuntu bionic InRelease\n",
            "\r0% [2 InRelease 64.9 kB/88.7 kB 73%] [Connected to cloud.r-project.org (52.222.\r0% [1 InRelease gpgv 242 kB] [2 InRelease 70.7 kB/88.7 kB 80%] [Connected to cl\r0% [1 InRelease gpgv 242 kB] [Waiting for headers] [Connected to cloud.r-projec\r                                                                               \rGet:6 http://ppa.launchpad.net/deadsnakes/ppa/ubuntu bionic InRelease [15.9 kB]\n",
            "\r0% [1 InRelease gpgv 242 kB] [Waiting for headers] [Waiting for headers] [Waiti\r                                                                               \rGet:7 http://archive.ubuntu.com/ubuntu bionic-backports InRelease [83.3 kB]\n",
            "\r0% [1 InRelease gpgv 242 kB] [7 InRelease 9,844 B/83.3 kB 12%] [Waiting for hea\r                                                                               \rGet:8 https://cloud.r-project.org/bin/linux/ubuntu bionic-cran40/ InRelease [3,626 B]\n",
            "Get:9 http://ppa.launchpad.net/graphics-drivers/ppa/ubuntu bionic InRelease [21.3 kB]\n",
            "Ign:10 https://developer.download.nvidia.com/compute/machine-learning/repos/ubuntu1804/x86_64  InRelease\n",
            "Hit:11 https://developer.download.nvidia.com/compute/cuda/repos/ubuntu1804/x86_64  InRelease\n",
            "Hit:12 https://developer.download.nvidia.com/compute/machine-learning/repos/ubuntu1804/x86_64  Release\n",
            "Get:13 http://ppa.launchpad.net/c2d4u.team/c2d4u4.0+/ubuntu bionic/main Sources [2,164 kB]\n",
            "Get:14 http://ppa.launchpad.net/c2d4u.team/c2d4u4.0+/ubuntu bionic/main amd64 Packages [1,109 kB]\n",
            "Get:15 http://security.ubuntu.com/ubuntu bionic-security/main amd64 Packages [3,020 kB]\n",
            "Get:16 http://security.ubuntu.com/ubuntu bionic-security/restricted amd64 Packages [1,188 kB]\n",
            "Get:17 http://security.ubuntu.com/ubuntu bionic-security/universe amd64 Packages [1,551 kB]\n",
            "Get:18 http://archive.ubuntu.com/ubuntu bionic-updates/restricted amd64 Packages [1,230 kB]\n",
            "Get:19 http://archive.ubuntu.com/ubuntu bionic-updates/universe amd64 Packages [2,329 kB]\n",
            "Get:20 http://archive.ubuntu.com/ubuntu bionic-updates/main amd64 Packages [3,452 kB]\n",
            "Get:21 http://ppa.launchpad.net/deadsnakes/ppa/ubuntu bionic/main amd64 Packages [44.0 kB]\n",
            "Get:22 http://ppa.launchpad.net/graphics-drivers/ppa/ubuntu bionic/main amd64 Packages [50.8 kB]\n",
            "Fetched 16.5 MB in 3s (6,070 kB/s)\n",
            "Reading package lists... Done\n"
          ]
        }
      ],
      "source": [
        "#Import Dependencies\n",
        "import os\n",
        "# Find the latest version of spark 3.2  from http://www.apache.org/dist/spark/ and enter as the spark version\n",
        "# For example:\n",
        "# spark_version = 'spark-3.2.2'\n",
        "spark_version = 'spark-3.2.2'\n",
        "os.environ['SPARK_VERSION']=spark_version\n",
        "\n",
        "# Install Spark and Java\n",
        "!apt-get update\n",
        "!apt-get install openjdk-8-jdk-headless -qq > /dev/null\n",
        "!wget -q http://www.apache.org/dist/spark/$SPARK_VERSION/$SPARK_VERSION-bin-hadoop2.7.tgz\n",
        "!tar xf $SPARK_VERSION-bin-hadoop2.7.tgz\n",
        "!pip install -q findspark\n",
        "\n",
        "# Set Environment Variables\n",
        "os.environ[\"JAVA_HOME\"] = \"/usr/lib/jvm/java-8-openjdk-amd64\"\n",
        "os.environ[\"SPARK_HOME\"] = f\"/content/{spark_version}-bin-hadoop2.7\"\n",
        "\n",
        "# Start a SparkSession\n",
        "import findspark\n",
        "findspark.init()"
      ]
    },
    {
      "cell_type": "code",
      "execution_count": 2,
      "id": "77ca0465-c49a-413b-a49f-0351f9216a4b",
      "metadata": {
        "colab": {
          "base_uri": "https://localhost:8080/"
        },
        "id": "77ca0465-c49a-413b-a49f-0351f9216a4b",
        "outputId": "8f1b3091-6ab7-4942-fcb7-cc85a1b0f3aa"
      },
      "outputs": [
        {
          "output_type": "stream",
          "name": "stdout",
          "text": [
            "--2022-10-16 02:03:57--  https://jdbc.postgresql.org/download/postgresql-42.2.9.jar\n",
            "Resolving jdbc.postgresql.org (jdbc.postgresql.org)... 72.32.157.228, 2001:4800:3e1:1::228\n",
            "Connecting to jdbc.postgresql.org (jdbc.postgresql.org)|72.32.157.228|:443... connected.\n",
            "HTTP request sent, awaiting response... 200 OK\n",
            "Length: 914037 (893K) [application/java-archive]\n",
            "Saving to: ‘postgresql-42.2.9.jar’\n",
            "\n",
            "postgresql-42.2.9.j 100%[===================>] 892.61K   654KB/s    in 1.4s    \n",
            "\n",
            "2022-10-16 02:03:59 (654 KB/s) - ‘postgresql-42.2.9.jar’ saved [914037/914037]\n",
            "\n"
          ]
        }
      ],
      "source": [
        "#Connect to SQL\n",
        "!wget https://jdbc.postgresql.org/download/postgresql-42.2.9.jar"
      ]
    },
    {
      "cell_type": "code",
      "execution_count": 3,
      "id": "e0be624b-b336-405d-b804-f609976d3206",
      "metadata": {
        "id": "e0be624b-b336-405d-b804-f609976d3206"
      },
      "outputs": [],
      "source": [
        "# Start Spark session\n",
        "from pyspark.sql import SparkSession\n",
        "spark = SparkSession.builder.appName(\"digital_video_games_reviews\").config(\"spark.driver.extraClassPath\",\"/content/postgresql-42.2.9.jar\").getOrCreate()"
      ]
    },
    {
      "cell_type": "code",
      "source": [
        "# Read in data from S3 Buckets\n",
        "from pyspark import SparkFiles\n",
        "url = \"https://s3.amazonaws.com/amazon-reviews-pds/tsv/amazon_reviews_us_Digital_Video_Games_v1_00.tsv.gz\"\n",
        "spark.sparkContext.addFile(url)\n",
        "df = spark.read.csv(SparkFiles.get(\"amazon_reviews_us_Digital_Video_Games_v1_00.tsv.gz\"), sep=\"\\t\", header=True)\n",
        "\n",
        "# Show DataFrame\n",
        "df.show()"
      ],
      "metadata": {
        "colab": {
          "base_uri": "https://localhost:8080/"
        },
        "id": "QTK5GjbQDy_T",
        "outputId": "3c7ed3a7-1d24-4fd3-ff4d-564dfd7c4a36"
      },
      "id": "QTK5GjbQDy_T",
      "execution_count": 4,
      "outputs": [
        {
          "output_type": "stream",
          "name": "stdout",
          "text": [
            "+-----------+-----------+--------------+----------+--------------+--------------------+-------------------+-----------+-------------+-----------+----+-----------------+--------------------+--------------------+-----------+\n",
            "|marketplace|customer_id|     review_id|product_id|product_parent|       product_title|   product_category|star_rating|helpful_votes|total_votes|vine|verified_purchase|     review_headline|         review_body|review_date|\n",
            "+-----------+-----------+--------------+----------+--------------+--------------------+-------------------+-----------+-------------+-----------+----+-----------------+--------------------+--------------------+-----------+\n",
            "|         US|   21269168| RSH1OZ87OYK92|B013PURRZW|     603406193|Madden NFL 16 - X...|Digital_Video_Games|          2|            2|          3|   N|                N|A slight improvem...|I keep buying mad...| 2015-08-31|\n",
            "|         US|     133437|R1WFOQ3N9BO65I|B00F4CEHNK|     341969535| Xbox Live Gift Card|Digital_Video_Games|          5|            0|          0|   N|                Y|          Five Stars|             Awesome| 2015-08-31|\n",
            "|         US|   45765011| R3YOOS71KM5M9|B00DNHLFQA|     951665344|Command & Conquer...|Digital_Video_Games|          5|            0|          0|   N|                Y|Hail to the great...|If you are preppi...| 2015-08-31|\n",
            "|         US|     113118|R3R14UATT3OUFU|B004RMK5QG|     395682204|Playstation Plus ...|Digital_Video_Games|          5|            0|          0|   N|                Y|          Five Stars|             Perfect| 2015-08-31|\n",
            "|         US|   22151364| RV2W9SGDNQA2C|B00G9BNLQE|     640460561|Saints Row IV - E...|Digital_Video_Games|          5|            0|          0|   N|                Y|          Five Stars|            Awesome!| 2015-08-31|\n",
            "|         US|   22151364|R3CFKLIZ0I2KOB|B00IMIL498|     621922192|Double Dragon: Ne...|Digital_Video_Games|          5|            0|          0|   N|                Y|          Five Stars|            Awesome!| 2015-08-31|\n",
            "|         US|   38426028|R1LRYU1V0T3O38|B00S00IJH8|     215163395|              Sims 4|Digital_Video_Games|          4|            0|          0|   N|                Y|i like the new sk...|i like the new sk...| 2015-08-31|\n",
            "|         US|    6057518| R44QKV6FE5CJ2|B004RMK4BC|     384246568|Playstation Netwo...|Digital_Video_Games|          5|            0|          0|   N|                Y|          Five Stars|               Super| 2015-08-31|\n",
            "|         US|   20715661|R2TX1KLPXXXNYS|B00K59HKIQ|     384246568|Playstation Netwo...|Digital_Video_Games|          5|            0|          0|   N|                Y|         Easy & Fast|Excellent, fast a...| 2015-08-31|\n",
            "|         US|   26540306|R1JEEW4C6R89BA|B00K59HKIQ|     384246568|Playstation Netwo...|Digital_Video_Games|          5|            0|          0|   N|                Y|          Five Stars|                  Ok| 2015-08-31|\n",
            "|         US|    8926809|R3B3UHK1FO0ERS|B004774IPU|     151985175|Sid Meier's Civil...|Digital_Video_Games|          1|            0|          0|   N|                N|I am still playin...|As has been writt...| 2015-08-31|\n",
            "|         US|   31525534|R2GVSDHW513SS1|B002LIT9EC|     695277014|Build-a-lot 4: Po...|Digital_Video_Games|          5|            0|          0|   N|                Y|Probably the best...|Probably the best...| 2015-08-31|\n",
            "|         US|   22151364|R1R1NT516PYT73|B008ALUBYQ|     112160022|       Borderlands 2|Digital_Video_Games|          5|            0|          0|   N|                Y|          Five Stars|            Awesome!| 2015-08-31|\n",
            "|         US|   22977584|R3K624QDQKENN9|B010KYDNDG|     835376637|Minecraft for PC/...|Digital_Video_Games|          4|            0|          0|   N|                Y|                 FUN|COOL BUT IT LAGES...| 2015-08-31|\n",
            "|         US|   45765011| R1FOXH7PCJX3V|B008ALUBYQ|     112160022|       Borderlands 2|Digital_Video_Games|          1|            0|          2|   N|                Y|            One Star|Lames purchase I ...| 2015-08-31|\n",
            "|         US|    2239522| RA1246M1OMDWC|B004RMK4P8|     384246568|Playstation Netwo...|Digital_Video_Games|          5|            0|          0|   N|                Y|          Five Stars|               Great| 2015-08-31|\n",
            "|         US|   48805811|R2I9SXWB0PAEKQ|B004RMK5QG|     395682204|Playstation Plus ...|Digital_Video_Games|          5|            0|          0|   N|                Y|          Five Stars|          Awesome!!!| 2015-08-31|\n",
            "|         US|   18646481|R3UGL544NA0G9C|B00BI16Z22|     552981447|Brink of Consciou...|Digital_Video_Games|          4|            0|          0|   N|                Y|       worth playing|pretty good but n...| 2015-08-31|\n",
            "|         US|   10310935|R1CBA4Y92GVAVM|B004VSTQ2A|     232803743|Xbox Live Subscri...|Digital_Video_Games|          5|            0|          0|   N|                Y|          Five Stars|What can I say......| 2015-08-31|\n",
            "|         US|    5587610|R24NEKNR01VEHU|B00GAC1D2G|     384246568|Playstation Netwo...|Digital_Video_Games|          5|            0|          0|   N|                Y|        Just amazing|Very fast to rece...| 2015-08-31|\n",
            "+-----------+-----------+--------------+----------+--------------+--------------------+-------------------+-----------+-------------+-----------+----+-----------------+--------------------+--------------------+-----------+\n",
            "only showing top 20 rows\n",
            "\n"
          ]
        }
      ]
    },
    {
      "cell_type": "code",
      "source": [
        "#Print first 10 rows\n",
        "df.show(10)"
      ],
      "metadata": {
        "id": "CF2RV1pKENuu"
      },
      "id": "CF2RV1pKENuu",
      "execution_count": 4,
      "outputs": []
    },
    {
      "cell_type": "code",
      "source": [
        "#Count the rows of the dataframe\n",
        "df.count()"
      ],
      "metadata": {
        "colab": {
          "base_uri": "https://localhost:8080/"
        },
        "id": "cskYNVLyiDlO",
        "outputId": "faf31f98-f06d-44cc-e283-477b17032a14"
      },
      "id": "cskYNVLyiDlO",
      "execution_count": 5,
      "outputs": [
        {
          "output_type": "execute_result",
          "data": {
            "text/plain": [
              "145431"
            ]
          },
          "metadata": {},
          "execution_count": 5
        }
      ]
    },
    {
      "cell_type": "code",
      "source": [
        "#Print column names\n",
        "df.columns"
      ],
      "metadata": {
        "colab": {
          "base_uri": "https://localhost:8080/"
        },
        "id": "q8bBT8HRiGuf",
        "outputId": "8293523d-9f6c-48d8-8a12-491078adf4ed"
      },
      "id": "q8bBT8HRiGuf",
      "execution_count": 6,
      "outputs": [
        {
          "output_type": "execute_result",
          "data": {
            "text/plain": [
              "['marketplace',\n",
              " 'customer_id',\n",
              " 'review_id',\n",
              " 'product_id',\n",
              " 'product_parent',\n",
              " 'product_title',\n",
              " 'product_category',\n",
              " 'star_rating',\n",
              " 'helpful_votes',\n",
              " 'total_votes',\n",
              " 'vine',\n",
              " 'verified_purchase',\n",
              " 'review_headline',\n",
              " 'review_body',\n",
              " 'review_date']"
            ]
          },
          "metadata": {},
          "execution_count": 6
        }
      ]
    },
    {
      "cell_type": "code",
      "source": [
        "#1 Schema uses review_id, customer_id, product_id, product_parent, review_date\n",
        "#2 products use product_id, product_title\n",
        "#3 customers use customer_id, customer_count(NEW column)\n",
        "#4 Vine table uses review_id, star_rating, helpful_votes, total_votes, vine"
      ],
      "metadata": {
        "id": "iVkz764NiI7M"
      },
      "id": "iVkz764NiI7M",
      "execution_count": 7,
      "outputs": []
    },
    {
      "cell_type": "code",
      "source": [
        "#Drop unnecessary columns \n",
        "df = df.drop(\"product_category\", \"marketplace\", \"verified_purchase\", \"review_headline\", \"review_body\")\n",
        "df.show()"
      ],
      "metadata": {
        "colab": {
          "base_uri": "https://localhost:8080/"
        },
        "id": "JI59eRt3iKn6",
        "outputId": "6e9665ea-ccf0-4a75-8494-63a47ff4b835"
      },
      "id": "JI59eRt3iKn6",
      "execution_count": 8,
      "outputs": [
        {
          "output_type": "stream",
          "name": "stdout",
          "text": [
            "+-----------+--------------+----------+--------------+--------------------+-----------+-------------+-----------+----+-----------+\n",
            "|customer_id|     review_id|product_id|product_parent|       product_title|star_rating|helpful_votes|total_votes|vine|review_date|\n",
            "+-----------+--------------+----------+--------------+--------------------+-----------+-------------+-----------+----+-----------+\n",
            "|   21269168| RSH1OZ87OYK92|B013PURRZW|     603406193|Madden NFL 16 - X...|          2|            2|          3|   N| 2015-08-31|\n",
            "|     133437|R1WFOQ3N9BO65I|B00F4CEHNK|     341969535| Xbox Live Gift Card|          5|            0|          0|   N| 2015-08-31|\n",
            "|   45765011| R3YOOS71KM5M9|B00DNHLFQA|     951665344|Command & Conquer...|          5|            0|          0|   N| 2015-08-31|\n",
            "|     113118|R3R14UATT3OUFU|B004RMK5QG|     395682204|Playstation Plus ...|          5|            0|          0|   N| 2015-08-31|\n",
            "|   22151364| RV2W9SGDNQA2C|B00G9BNLQE|     640460561|Saints Row IV - E...|          5|            0|          0|   N| 2015-08-31|\n",
            "|   22151364|R3CFKLIZ0I2KOB|B00IMIL498|     621922192|Double Dragon: Ne...|          5|            0|          0|   N| 2015-08-31|\n",
            "|   38426028|R1LRYU1V0T3O38|B00S00IJH8|     215163395|              Sims 4|          4|            0|          0|   N| 2015-08-31|\n",
            "|    6057518| R44QKV6FE5CJ2|B004RMK4BC|     384246568|Playstation Netwo...|          5|            0|          0|   N| 2015-08-31|\n",
            "|   20715661|R2TX1KLPXXXNYS|B00K59HKIQ|     384246568|Playstation Netwo...|          5|            0|          0|   N| 2015-08-31|\n",
            "|   26540306|R1JEEW4C6R89BA|B00K59HKIQ|     384246568|Playstation Netwo...|          5|            0|          0|   N| 2015-08-31|\n",
            "|    8926809|R3B3UHK1FO0ERS|B004774IPU|     151985175|Sid Meier's Civil...|          1|            0|          0|   N| 2015-08-31|\n",
            "|   31525534|R2GVSDHW513SS1|B002LIT9EC|     695277014|Build-a-lot 4: Po...|          5|            0|          0|   N| 2015-08-31|\n",
            "|   22151364|R1R1NT516PYT73|B008ALUBYQ|     112160022|       Borderlands 2|          5|            0|          0|   N| 2015-08-31|\n",
            "|   22977584|R3K624QDQKENN9|B010KYDNDG|     835376637|Minecraft for PC/...|          4|            0|          0|   N| 2015-08-31|\n",
            "|   45765011| R1FOXH7PCJX3V|B008ALUBYQ|     112160022|       Borderlands 2|          1|            0|          2|   N| 2015-08-31|\n",
            "|    2239522| RA1246M1OMDWC|B004RMK4P8|     384246568|Playstation Netwo...|          5|            0|          0|   N| 2015-08-31|\n",
            "|   48805811|R2I9SXWB0PAEKQ|B004RMK5QG|     395682204|Playstation Plus ...|          5|            0|          0|   N| 2015-08-31|\n",
            "|   18646481|R3UGL544NA0G9C|B00BI16Z22|     552981447|Brink of Consciou...|          4|            0|          0|   N| 2015-08-31|\n",
            "|   10310935|R1CBA4Y92GVAVM|B004VSTQ2A|     232803743|Xbox Live Subscri...|          5|            0|          0|   N| 2015-08-31|\n",
            "|    5587610|R24NEKNR01VEHU|B00GAC1D2G|     384246568|Playstation Netwo...|          5|            0|          0|   N| 2015-08-31|\n",
            "+-----------+--------------+----------+--------------+--------------------+-----------+-------------+-----------+----+-----------+\n",
            "only showing top 20 rows\n",
            "\n"
          ]
        }
      ]
    },
    {
      "cell_type": "code",
      "source": [
        "#Drop null values\n",
        "df = df.dropna(how=\"any\")\n",
        "df.show()"
      ],
      "metadata": {
        "colab": {
          "base_uri": "https://localhost:8080/"
        },
        "id": "nyzwE_vwiMbc",
        "outputId": "ba769eb7-29dc-4c55-d696-e8c680edaf5b"
      },
      "id": "nyzwE_vwiMbc",
      "execution_count": 9,
      "outputs": [
        {
          "output_type": "stream",
          "name": "stdout",
          "text": [
            "+-----------+--------------+----------+--------------+--------------------+-----------+-------------+-----------+----+-----------+\n",
            "|customer_id|     review_id|product_id|product_parent|       product_title|star_rating|helpful_votes|total_votes|vine|review_date|\n",
            "+-----------+--------------+----------+--------------+--------------------+-----------+-------------+-----------+----+-----------+\n",
            "|   21269168| RSH1OZ87OYK92|B013PURRZW|     603406193|Madden NFL 16 - X...|          2|            2|          3|   N| 2015-08-31|\n",
            "|     133437|R1WFOQ3N9BO65I|B00F4CEHNK|     341969535| Xbox Live Gift Card|          5|            0|          0|   N| 2015-08-31|\n",
            "|   45765011| R3YOOS71KM5M9|B00DNHLFQA|     951665344|Command & Conquer...|          5|            0|          0|   N| 2015-08-31|\n",
            "|     113118|R3R14UATT3OUFU|B004RMK5QG|     395682204|Playstation Plus ...|          5|            0|          0|   N| 2015-08-31|\n",
            "|   22151364| RV2W9SGDNQA2C|B00G9BNLQE|     640460561|Saints Row IV - E...|          5|            0|          0|   N| 2015-08-31|\n",
            "|   22151364|R3CFKLIZ0I2KOB|B00IMIL498|     621922192|Double Dragon: Ne...|          5|            0|          0|   N| 2015-08-31|\n",
            "|   38426028|R1LRYU1V0T3O38|B00S00IJH8|     215163395|              Sims 4|          4|            0|          0|   N| 2015-08-31|\n",
            "|    6057518| R44QKV6FE5CJ2|B004RMK4BC|     384246568|Playstation Netwo...|          5|            0|          0|   N| 2015-08-31|\n",
            "|   20715661|R2TX1KLPXXXNYS|B00K59HKIQ|     384246568|Playstation Netwo...|          5|            0|          0|   N| 2015-08-31|\n",
            "|   26540306|R1JEEW4C6R89BA|B00K59HKIQ|     384246568|Playstation Netwo...|          5|            0|          0|   N| 2015-08-31|\n",
            "|    8926809|R3B3UHK1FO0ERS|B004774IPU|     151985175|Sid Meier's Civil...|          1|            0|          0|   N| 2015-08-31|\n",
            "|   31525534|R2GVSDHW513SS1|B002LIT9EC|     695277014|Build-a-lot 4: Po...|          5|            0|          0|   N| 2015-08-31|\n",
            "|   22151364|R1R1NT516PYT73|B008ALUBYQ|     112160022|       Borderlands 2|          5|            0|          0|   N| 2015-08-31|\n",
            "|   22977584|R3K624QDQKENN9|B010KYDNDG|     835376637|Minecraft for PC/...|          4|            0|          0|   N| 2015-08-31|\n",
            "|   45765011| R1FOXH7PCJX3V|B008ALUBYQ|     112160022|       Borderlands 2|          1|            0|          2|   N| 2015-08-31|\n",
            "|    2239522| RA1246M1OMDWC|B004RMK4P8|     384246568|Playstation Netwo...|          5|            0|          0|   N| 2015-08-31|\n",
            "|   48805811|R2I9SXWB0PAEKQ|B004RMK5QG|     395682204|Playstation Plus ...|          5|            0|          0|   N| 2015-08-31|\n",
            "|   18646481|R3UGL544NA0G9C|B00BI16Z22|     552981447|Brink of Consciou...|          4|            0|          0|   N| 2015-08-31|\n",
            "|   10310935|R1CBA4Y92GVAVM|B004VSTQ2A|     232803743|Xbox Live Subscri...|          5|            0|          0|   N| 2015-08-31|\n",
            "|    5587610|R24NEKNR01VEHU|B00GAC1D2G|     384246568|Playstation Netwo...|          5|            0|          0|   N| 2015-08-31|\n",
            "+-----------+--------------+----------+--------------+--------------------+-----------+-------------+-----------+----+-----------+\n",
            "only showing top 20 rows\n",
            "\n"
          ]
        }
      ]
    },
    {
      "cell_type": "code",
      "source": [
        "#Count the rows of the dataframe - compare from the first\n",
        "df.count()"
      ],
      "metadata": {
        "colab": {
          "base_uri": "https://localhost:8080/"
        },
        "id": "G0ck015BiOFI",
        "outputId": "cfc6acfe-da8b-465e-bb60-0617384995e5"
      },
      "id": "G0ck015BiOFI",
      "execution_count": 10,
      "outputs": [
        {
          "output_type": "execute_result",
          "data": {
            "text/plain": [
              "145427"
            ]
          },
          "metadata": {},
          "execution_count": 10
        }
      ]
    },
    {
      "cell_type": "code",
      "source": [
        "#Print Schema Types\n",
        "df.printSchema()"
      ],
      "metadata": {
        "colab": {
          "base_uri": "https://localhost:8080/"
        },
        "id": "YBiBCuy_iPq7",
        "outputId": "208e1b10-a23e-4d88-8cf5-f8c65ce30b92"
      },
      "id": "YBiBCuy_iPq7",
      "execution_count": 11,
      "outputs": [
        {
          "output_type": "stream",
          "name": "stdout",
          "text": [
            "root\n",
            " |-- customer_id: string (nullable = true)\n",
            " |-- review_id: string (nullable = true)\n",
            " |-- product_id: string (nullable = true)\n",
            " |-- product_parent: string (nullable = true)\n",
            " |-- product_title: string (nullable = true)\n",
            " |-- star_rating: string (nullable = true)\n",
            " |-- helpful_votes: string (nullable = true)\n",
            " |-- total_votes: string (nullable = true)\n",
            " |-- vine: string (nullable = true)\n",
            " |-- review_date: string (nullable = true)\n",
            "\n"
          ]
        }
      ]
    },
    {
      "cell_type": "code",
      "source": [
        "#Match Schema value types to SQL Schema by casting them\n",
        "from pyspark.sql.functions import col\n",
        "from pyspark.sql.types import StringType,BooleanType,DateType, IntegerType\n",
        "\n",
        "df = df.withColumn(\"customer_id\",col(\"customer_id\").cast(IntegerType()))\n",
        "df = df.withColumn(\"product_parent\",col(\"product_parent\").cast(IntegerType()))\n",
        "df = df.withColumn(\"star_rating\",col(\"star_rating\").cast(IntegerType()))\n",
        "df = df.withColumn(\"helpful_votes\",col(\"helpful_votes\").cast(IntegerType()))\n",
        "df = df.withColumn(\"total_votes\",col(\"total_votes\").cast(IntegerType()))\n",
        "df = df.withColumn(\"review_date\",col(\"review_date\").cast(DateType()))"
      ],
      "metadata": {
        "id": "kNbJZEmRiSIJ"
      },
      "id": "kNbJZEmRiSIJ",
      "execution_count": 12,
      "outputs": []
    },
    {
      "cell_type": "code",
      "source": [
        "#Drop null values again in case there are conflicts after casting columns\n",
        "df = df.dropna(how=\"any\")\n",
        "df.show()"
      ],
      "metadata": {
        "colab": {
          "base_uri": "https://localhost:8080/"
        },
        "id": "v2S146xiiT_B",
        "outputId": "59dd448d-85c7-4786-80c5-2f90dbfbf4a7"
      },
      "id": "v2S146xiiT_B",
      "execution_count": 13,
      "outputs": [
        {
          "output_type": "stream",
          "name": "stdout",
          "text": [
            "+-----------+--------------+----------+--------------+--------------------+-----------+-------------+-----------+----+-----------+\n",
            "|customer_id|     review_id|product_id|product_parent|       product_title|star_rating|helpful_votes|total_votes|vine|review_date|\n",
            "+-----------+--------------+----------+--------------+--------------------+-----------+-------------+-----------+----+-----------+\n",
            "|   21269168| RSH1OZ87OYK92|B013PURRZW|     603406193|Madden NFL 16 - X...|          2|            2|          3|   N| 2015-08-31|\n",
            "|     133437|R1WFOQ3N9BO65I|B00F4CEHNK|     341969535| Xbox Live Gift Card|          5|            0|          0|   N| 2015-08-31|\n",
            "|   45765011| R3YOOS71KM5M9|B00DNHLFQA|     951665344|Command & Conquer...|          5|            0|          0|   N| 2015-08-31|\n",
            "|     113118|R3R14UATT3OUFU|B004RMK5QG|     395682204|Playstation Plus ...|          5|            0|          0|   N| 2015-08-31|\n",
            "|   22151364| RV2W9SGDNQA2C|B00G9BNLQE|     640460561|Saints Row IV - E...|          5|            0|          0|   N| 2015-08-31|\n",
            "|   22151364|R3CFKLIZ0I2KOB|B00IMIL498|     621922192|Double Dragon: Ne...|          5|            0|          0|   N| 2015-08-31|\n",
            "|   38426028|R1LRYU1V0T3O38|B00S00IJH8|     215163395|              Sims 4|          4|            0|          0|   N| 2015-08-31|\n",
            "|    6057518| R44QKV6FE5CJ2|B004RMK4BC|     384246568|Playstation Netwo...|          5|            0|          0|   N| 2015-08-31|\n",
            "|   20715661|R2TX1KLPXXXNYS|B00K59HKIQ|     384246568|Playstation Netwo...|          5|            0|          0|   N| 2015-08-31|\n",
            "|   26540306|R1JEEW4C6R89BA|B00K59HKIQ|     384246568|Playstation Netwo...|          5|            0|          0|   N| 2015-08-31|\n",
            "|    8926809|R3B3UHK1FO0ERS|B004774IPU|     151985175|Sid Meier's Civil...|          1|            0|          0|   N| 2015-08-31|\n",
            "|   31525534|R2GVSDHW513SS1|B002LIT9EC|     695277014|Build-a-lot 4: Po...|          5|            0|          0|   N| 2015-08-31|\n",
            "|   22151364|R1R1NT516PYT73|B008ALUBYQ|     112160022|       Borderlands 2|          5|            0|          0|   N| 2015-08-31|\n",
            "|   22977584|R3K624QDQKENN9|B010KYDNDG|     835376637|Minecraft for PC/...|          4|            0|          0|   N| 2015-08-31|\n",
            "|   45765011| R1FOXH7PCJX3V|B008ALUBYQ|     112160022|       Borderlands 2|          1|            0|          2|   N| 2015-08-31|\n",
            "|    2239522| RA1246M1OMDWC|B004RMK4P8|     384246568|Playstation Netwo...|          5|            0|          0|   N| 2015-08-31|\n",
            "|   48805811|R2I9SXWB0PAEKQ|B004RMK5QG|     395682204|Playstation Plus ...|          5|            0|          0|   N| 2015-08-31|\n",
            "|   18646481|R3UGL544NA0G9C|B00BI16Z22|     552981447|Brink of Consciou...|          4|            0|          0|   N| 2015-08-31|\n",
            "|   10310935|R1CBA4Y92GVAVM|B004VSTQ2A|     232803743|Xbox Live Subscri...|          5|            0|          0|   N| 2015-08-31|\n",
            "|    5587610|R24NEKNR01VEHU|B00GAC1D2G|     384246568|Playstation Netwo...|          5|            0|          0|   N| 2015-08-31|\n",
            "+-----------+--------------+----------+--------------+--------------------+-----------+-------------+-----------+----+-----------+\n",
            "only showing top 20 rows\n",
            "\n"
          ]
        }
      ]
    },
    {
      "cell_type": "code",
      "source": [
        "#Count the rows of the dataframe\n",
        "df.count()"
      ],
      "metadata": {
        "colab": {
          "base_uri": "https://localhost:8080/"
        },
        "id": "I9lt4XL6iVdQ",
        "outputId": "e3ea099b-e1a6-4250-ea2f-81b23ff218bc"
      },
      "id": "I9lt4XL6iVdQ",
      "execution_count": 14,
      "outputs": [
        {
          "output_type": "execute_result",
          "data": {
            "text/plain": [
              "145427"
            ]
          },
          "metadata": {},
          "execution_count": 14
        }
      ]
    },
    {
      "cell_type": "code",
      "source": [
        "#Print Schema Types after casting columns\n",
        "df.printSchema()"
      ],
      "metadata": {
        "colab": {
          "base_uri": "https://localhost:8080/"
        },
        "id": "uZD3mU0AiW1O",
        "outputId": "14014099-9a1a-4e34-adba-d96fc04e4b5b"
      },
      "id": "uZD3mU0AiW1O",
      "execution_count": 15,
      "outputs": [
        {
          "output_type": "stream",
          "name": "stdout",
          "text": [
            "root\n",
            " |-- customer_id: integer (nullable = true)\n",
            " |-- review_id: string (nullable = true)\n",
            " |-- product_id: string (nullable = true)\n",
            " |-- product_parent: integer (nullable = true)\n",
            " |-- product_title: string (nullable = true)\n",
            " |-- star_rating: integer (nullable = true)\n",
            " |-- helpful_votes: integer (nullable = true)\n",
            " |-- total_votes: integer (nullable = true)\n",
            " |-- vine: string (nullable = true)\n",
            " |-- review_date: date (nullable = true)\n",
            "\n"
          ]
        }
      ]
    },
    {
      "cell_type": "code",
      "source": [
        "#Make review_id_table as df\n",
        "review_id_table = df.select([\"review_id\",\"customer_id\",\"product_id\",\"product_parent\",\"review_date\"])\n",
        "review_id_table.show()"
      ],
      "metadata": {
        "colab": {
          "base_uri": "https://localhost:8080/"
        },
        "id": "Tvlo_o6JiYn8",
        "outputId": "b6682630-ed3f-42ac-a666-5831afe1a267"
      },
      "id": "Tvlo_o6JiYn8",
      "execution_count": 16,
      "outputs": [
        {
          "output_type": "stream",
          "name": "stdout",
          "text": [
            "+--------------+-----------+----------+--------------+-----------+\n",
            "|     review_id|customer_id|product_id|product_parent|review_date|\n",
            "+--------------+-----------+----------+--------------+-----------+\n",
            "| RSH1OZ87OYK92|   21269168|B013PURRZW|     603406193| 2015-08-31|\n",
            "|R1WFOQ3N9BO65I|     133437|B00F4CEHNK|     341969535| 2015-08-31|\n",
            "| R3YOOS71KM5M9|   45765011|B00DNHLFQA|     951665344| 2015-08-31|\n",
            "|R3R14UATT3OUFU|     113118|B004RMK5QG|     395682204| 2015-08-31|\n",
            "| RV2W9SGDNQA2C|   22151364|B00G9BNLQE|     640460561| 2015-08-31|\n",
            "|R3CFKLIZ0I2KOB|   22151364|B00IMIL498|     621922192| 2015-08-31|\n",
            "|R1LRYU1V0T3O38|   38426028|B00S00IJH8|     215163395| 2015-08-31|\n",
            "| R44QKV6FE5CJ2|    6057518|B004RMK4BC|     384246568| 2015-08-31|\n",
            "|R2TX1KLPXXXNYS|   20715661|B00K59HKIQ|     384246568| 2015-08-31|\n",
            "|R1JEEW4C6R89BA|   26540306|B00K59HKIQ|     384246568| 2015-08-31|\n",
            "|R3B3UHK1FO0ERS|    8926809|B004774IPU|     151985175| 2015-08-31|\n",
            "|R2GVSDHW513SS1|   31525534|B002LIT9EC|     695277014| 2015-08-31|\n",
            "|R1R1NT516PYT73|   22151364|B008ALUBYQ|     112160022| 2015-08-31|\n",
            "|R3K624QDQKENN9|   22977584|B010KYDNDG|     835376637| 2015-08-31|\n",
            "| R1FOXH7PCJX3V|   45765011|B008ALUBYQ|     112160022| 2015-08-31|\n",
            "| RA1246M1OMDWC|    2239522|B004RMK4P8|     384246568| 2015-08-31|\n",
            "|R2I9SXWB0PAEKQ|   48805811|B004RMK5QG|     395682204| 2015-08-31|\n",
            "|R3UGL544NA0G9C|   18646481|B00BI16Z22|     552981447| 2015-08-31|\n",
            "|R1CBA4Y92GVAVM|   10310935|B004VSTQ2A|     232803743| 2015-08-31|\n",
            "|R24NEKNR01VEHU|    5587610|B00GAC1D2G|     384246568| 2015-08-31|\n",
            "+--------------+-----------+----------+--------------+-----------+\n",
            "only showing top 20 rows\n",
            "\n"
          ]
        }
      ]
    },
    {
      "cell_type": "code",
      "source": [
        "#Print review_id_table schema\n",
        "review_id_table.printSchema()"
      ],
      "metadata": {
        "colab": {
          "base_uri": "https://localhost:8080/"
        },
        "id": "3vOn8TImiaBG",
        "outputId": "0e4779fa-2022-4711-8cb1-10e537eac27c"
      },
      "id": "3vOn8TImiaBG",
      "execution_count": 17,
      "outputs": [
        {
          "output_type": "stream",
          "name": "stdout",
          "text": [
            "root\n",
            " |-- review_id: string (nullable = true)\n",
            " |-- customer_id: integer (nullable = true)\n",
            " |-- product_id: string (nullable = true)\n",
            " |-- product_parent: integer (nullable = true)\n",
            " |-- review_date: date (nullable = true)\n",
            "\n"
          ]
        }
      ]
    },
    {
      "cell_type": "code",
      "source": [
        "#Make products table\n",
        "products_table = df.select([\"product_id\", \"product_title\"])\n",
        "products_table.show()"
      ],
      "metadata": {
        "colab": {
          "base_uri": "https://localhost:8080/"
        },
        "id": "zx3WtQdHib_g",
        "outputId": "562a31fb-544a-41c4-a053-c19c5109eb96"
      },
      "id": "zx3WtQdHib_g",
      "execution_count": 18,
      "outputs": [
        {
          "output_type": "stream",
          "name": "stdout",
          "text": [
            "+----------+--------------------+\n",
            "|product_id|       product_title|\n",
            "+----------+--------------------+\n",
            "|B013PURRZW|Madden NFL 16 - X...|\n",
            "|B00F4CEHNK| Xbox Live Gift Card|\n",
            "|B00DNHLFQA|Command & Conquer...|\n",
            "|B004RMK5QG|Playstation Plus ...|\n",
            "|B00G9BNLQE|Saints Row IV - E...|\n",
            "|B00IMIL498|Double Dragon: Ne...|\n",
            "|B00S00IJH8|              Sims 4|\n",
            "|B004RMK4BC|Playstation Netwo...|\n",
            "|B00K59HKIQ|Playstation Netwo...|\n",
            "|B00K59HKIQ|Playstation Netwo...|\n",
            "|B004774IPU|Sid Meier's Civil...|\n",
            "|B002LIT9EC|Build-a-lot 4: Po...|\n",
            "|B008ALUBYQ|       Borderlands 2|\n",
            "|B010KYDNDG|Minecraft for PC/...|\n",
            "|B008ALUBYQ|       Borderlands 2|\n",
            "|B004RMK4P8|Playstation Netwo...|\n",
            "|B004RMK5QG|Playstation Plus ...|\n",
            "|B00BI16Z22|Brink of Consciou...|\n",
            "|B004VSTQ2A|Xbox Live Subscri...|\n",
            "|B00GAC1D2G|Playstation Netwo...|\n",
            "+----------+--------------------+\n",
            "only showing top 20 rows\n",
            "\n"
          ]
        }
      ]
    },
    {
      "cell_type": "code",
      "source": [
        "#Print products_table schema\n",
        "products_table.printSchema()"
      ],
      "metadata": {
        "colab": {
          "base_uri": "https://localhost:8080/"
        },
        "id": "j4AeH8oVidgw",
        "outputId": "a6163d5a-73e8-4910-f445-328815b80409"
      },
      "id": "j4AeH8oVidgw",
      "execution_count": 19,
      "outputs": [
        {
          "output_type": "stream",
          "name": "stdout",
          "text": [
            "root\n",
            " |-- product_id: string (nullable = true)\n",
            " |-- product_title: string (nullable = true)\n",
            "\n"
          ]
        }
      ]
    },
    {
      "cell_type": "code",
      "source": [
        "#Make Customer table TWO since this is the second dataset -- must make customer_count column\n",
        "customers_table = df.groupBy(\"customer_id\").count()\n",
        "customers_table = customers_table.withColumnRenamed(\"count\",\"customer_count\")\n",
        "customers_table.show()"
      ],
      "metadata": {
        "colab": {
          "base_uri": "https://localhost:8080/"
        },
        "id": "smZGIqtWifHY",
        "outputId": "e9cf119d-7459-4d41-ac18-4764b20c749f"
      },
      "id": "smZGIqtWifHY",
      "execution_count": 20,
      "outputs": [
        {
          "output_type": "stream",
          "name": "stdout",
          "text": [
            "+-----------+--------------+\n",
            "|customer_id|customer_count|\n",
            "+-----------+--------------+\n",
            "|   26079415|             1|\n",
            "|   12521601|             2|\n",
            "|    4593696|             1|\n",
            "|    1468259|             1|\n",
            "|   38173350|             1|\n",
            "|    3953141|             2|\n",
            "|   20598424|             1|\n",
            "|   46625306|             1|\n",
            "|   47160828|             2|\n",
            "|    1337034|             1|\n",
            "|   14231016|             1|\n",
            "|   49785748|             1|\n",
            "|     712525|             1|\n",
            "|   35339694|             1|\n",
            "|    8211293|             1|\n",
            "|   41832251|             1|\n",
            "|    9037272|             1|\n",
            "|   52036002|             1|\n",
            "|   49514578|             1|\n",
            "|   22875949|             1|\n",
            "+-----------+--------------+\n",
            "only showing top 20 rows\n",
            "\n"
          ]
        }
      ]
    },
    {
      "cell_type": "code",
      "source": [
        "#Print customers_table schema\n",
        "customers_table.printSchema()"
      ],
      "metadata": {
        "colab": {
          "base_uri": "https://localhost:8080/"
        },
        "id": "guLuA8gTikRn",
        "outputId": "523ad3db-4bd8-4145-9515-da00af4f2b00"
      },
      "id": "guLuA8gTikRn",
      "execution_count": 21,
      "outputs": [
        {
          "output_type": "stream",
          "name": "stdout",
          "text": [
            "root\n",
            " |-- customer_id: integer (nullable = true)\n",
            " |-- customer_count: long (nullable = false)\n",
            "\n"
          ]
        }
      ]
    },
    {
      "cell_type": "code",
      "source": [
        "#Convert new column (customer_count) to Integer\n",
        "customers_table = customers_table.withColumn(\"customer_count\",col(\"customer_count\").cast(IntegerType()))"
      ],
      "metadata": {
        "id": "yFXuV3SfimHh"
      },
      "id": "yFXuV3SfimHh",
      "execution_count": 22,
      "outputs": []
    },
    {
      "cell_type": "code",
      "source": [
        "#Print customers_table schema after casting\n",
        "customers_table.printSchema()"
      ],
      "metadata": {
        "colab": {
          "base_uri": "https://localhost:8080/"
        },
        "id": "LDaXEftaipVz",
        "outputId": "02c55d9d-d3dd-4e1d-893f-1bd26d067086"
      },
      "id": "LDaXEftaipVz",
      "execution_count": 23,
      "outputs": [
        {
          "output_type": "stream",
          "name": "stdout",
          "text": [
            "root\n",
            " |-- customer_id: integer (nullable = true)\n",
            " |-- customer_count: integer (nullable = false)\n",
            "\n"
          ]
        }
      ]
    },
    {
      "cell_type": "code",
      "source": [
        "#Make VINE table\n",
        "vine_table = df.select([\"review_id\", \"star_rating\", \"helpful_votes\", \"total_votes\", \"vine\"])\n",
        "vine_table.show()"
      ],
      "metadata": {
        "colab": {
          "base_uri": "https://localhost:8080/"
        },
        "id": "F-xONkCMirOp",
        "outputId": "39becbff-576e-4fae-8f72-0aa37b029215"
      },
      "id": "F-xONkCMirOp",
      "execution_count": 24,
      "outputs": [
        {
          "output_type": "stream",
          "name": "stdout",
          "text": [
            "+--------------+-----------+-------------+-----------+----+\n",
            "|     review_id|star_rating|helpful_votes|total_votes|vine|\n",
            "+--------------+-----------+-------------+-----------+----+\n",
            "| RSH1OZ87OYK92|          2|            2|          3|   N|\n",
            "|R1WFOQ3N9BO65I|          5|            0|          0|   N|\n",
            "| R3YOOS71KM5M9|          5|            0|          0|   N|\n",
            "|R3R14UATT3OUFU|          5|            0|          0|   N|\n",
            "| RV2W9SGDNQA2C|          5|            0|          0|   N|\n",
            "|R3CFKLIZ0I2KOB|          5|            0|          0|   N|\n",
            "|R1LRYU1V0T3O38|          4|            0|          0|   N|\n",
            "| R44QKV6FE5CJ2|          5|            0|          0|   N|\n",
            "|R2TX1KLPXXXNYS|          5|            0|          0|   N|\n",
            "|R1JEEW4C6R89BA|          5|            0|          0|   N|\n",
            "|R3B3UHK1FO0ERS|          1|            0|          0|   N|\n",
            "|R2GVSDHW513SS1|          5|            0|          0|   N|\n",
            "|R1R1NT516PYT73|          5|            0|          0|   N|\n",
            "|R3K624QDQKENN9|          4|            0|          0|   N|\n",
            "| R1FOXH7PCJX3V|          1|            0|          2|   N|\n",
            "| RA1246M1OMDWC|          5|            0|          0|   N|\n",
            "|R2I9SXWB0PAEKQ|          5|            0|          0|   N|\n",
            "|R3UGL544NA0G9C|          4|            0|          0|   N|\n",
            "|R1CBA4Y92GVAVM|          5|            0|          0|   N|\n",
            "|R24NEKNR01VEHU|          5|            0|          0|   N|\n",
            "+--------------+-----------+-------------+-----------+----+\n",
            "only showing top 20 rows\n",
            "\n"
          ]
        }
      ]
    },
    {
      "cell_type": "code",
      "source": [
        "#Print vine_table schema\n",
        "vine_table.printSchema()"
      ],
      "metadata": {
        "colab": {
          "base_uri": "https://localhost:8080/"
        },
        "id": "gouDz0qJisj9",
        "outputId": "45e96063-05ca-49ad-9bb7-6799436961a6"
      },
      "id": "gouDz0qJisj9",
      "execution_count": 25,
      "outputs": [
        {
          "output_type": "stream",
          "name": "stdout",
          "text": [
            "root\n",
            " |-- review_id: string (nullable = true)\n",
            " |-- star_rating: integer (nullable = true)\n",
            " |-- helpful_votes: integer (nullable = true)\n",
            " |-- total_votes: integer (nullable = true)\n",
            " |-- vine: string (nullable = true)\n",
            "\n"
          ]
        }
      ]
    },
    {
      "cell_type": "code",
      "source": [
        "# Configure settings for RDS\n",
        "mode = \"append\"\n",
        "jdbc_url=\"jdbc:postgresql://<AWS endpoint>:5432/postgres\"\n",
        "config = {\"user\":\"postgres\", \n",
        "          \"password\": \"<password>\", \n",
        "          \"driver\":\"org.postgresql.Driver\"}\n"
      ],
      "metadata": {
        "id": "6CiXFwioit2Y"
      },
      "id": "6CiXFwioit2Y",
      "execution_count": 30,
      "outputs": []
    },
    {
      "cell_type": "code",
      "source": [
        "# Write Spark DataFrames to tables in RDS\n",
        "\n",
        "review_id_table.write.jdbc(url=jdbc_url, table=\"review_id_table\", mode=mode, properties=config)\n",
        "products_table.write.jdbc(url=jdbc_url, table=\"products\", mode=mode, properties=config)\n",
        "customers_table.write.jdbc(url=jdbc_url, table=\"customers_two\", mode=mode, properties=config)\n",
        "vine_table.write.jdbc(url=jdbc_url, table=\"vine_table\", mode=mode, properties=config)"
      ],
      "metadata": {
        "id": "5pSXR3ocivPj"
      },
      "id": "5pSXR3ocivPj",
      "execution_count": 32,
      "outputs": []
    },
    {
      "cell_type": "code",
      "source": [],
      "metadata": {
        "id": "6lAjj9gaixYN"
      },
      "id": "6lAjj9gaixYN",
      "execution_count": null,
      "outputs": []
    }
  ],
  "metadata": {
    "kernelspec": {
      "display_name": "Python 3 (ipykernel)",
      "language": "python",
      "name": "python3"
    },
    "language_info": {
      "codemirror_mode": {
        "name": "ipython",
        "version": 3
      },
      "file_extension": ".py",
      "mimetype": "text/x-python",
      "name": "python",
      "nbconvert_exporter": "python",
      "pygments_lexer": "ipython3",
      "version": "3.9.7"
    },
    "colab": {
      "provenance": [],
      "include_colab_link": true
    }
  },
  "nbformat": 4,
  "nbformat_minor": 5
}